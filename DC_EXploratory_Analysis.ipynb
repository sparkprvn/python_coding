{
  "nbformat": 4,
  "nbformat_minor": 0,
  "metadata": {
    "colab": {
      "name": "DC_EXploratory_Analysis.ipynb",
      "provenance": [],
      "collapsed_sections": [],
      "authorship_tag": "ABX9TyP8WJgAnAKRynkDDNX8QvZ0",
      "include_colab_link": true
    },
    "kernelspec": {
      "name": "python3",
      "display_name": "Python 3"
    },
    "language_info": {
      "name": "python"
    }
  },
  "cells": [
    {
      "cell_type": "markdown",
      "metadata": {
        "id": "view-in-github",
        "colab_type": "text"
      },
      "source": [
        "<a href=\"https://colab.research.google.com/github/sparkprvn/python_coding/blob/main/DC_EXploratory_Analysis.ipynb\" target=\"_parent\"><img src=\"https://colab.research.google.com/assets/colab-badge.svg\" alt=\"Open In Colab\"/></a>"
      ]
    },
    {
      "cell_type": "code",
      "execution_count": 2,
      "metadata": {
        "id": "F1dwjtTeSIvO"
      },
      "outputs": [],
      "source": [
        "# Exploratory Data Analysis"
      ]
    },
    {
      "cell_type": "code",
      "source": [
        "#data \n",
        "\"\"\"\n",
        "      date      close\n",
        "2013-02-08    261.950\n",
        "2013-02-11    257.210\n",
        "2013-02-12    258.700\n",
        "2013-02-13    269.470\n",
        "2013-02-14    269.240\n",
        "\"\"\"\n",
        "\n",
        "\n",
        "\n",
        "import matplotlib.pyplot as plt\n",
        "import seaborn as sns\n",
        "\n",
        "sns.lineplot(\n",
        "  x='date', \n",
        "  y='close', \n",
        "  data=amazon)\n",
        "\n",
        "plt.xticks(rotation = 45)\n",
        "plt.show()"
      ],
      "metadata": {
        "id": "soZC6T24SOBx"
      },
      "execution_count": null,
      "outputs": []
    },
    {
      "cell_type": "code",
      "source": [
        "# You have collected data on the age for each of 100 shoppers in your store. Calculate the standard deviation for the age of the shoppers.\n",
        "import numpy as np\n",
        "\n",
        "sd_age = np.std(age)\n",
        "\n",
        "print(sd_age.round(2))"
      ],
      "metadata": {
        "id": "0mnZcJJISWs-"
      },
      "execution_count": null,
      "outputs": []
    }
  ]
}