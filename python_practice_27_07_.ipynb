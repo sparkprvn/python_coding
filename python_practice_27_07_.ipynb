{
  "nbformat": 4,
  "nbformat_minor": 0,
  "metadata": {
    "colab": {
      "name": "python_practice_27_07..ipynb",
      "provenance": [],
      "collapsed_sections": [],
      "authorship_tag": "ABX9TyO7fw/dMFOtE76A+FUPFPB5",
      "include_colab_link": true
    },
    "kernelspec": {
      "name": "python3",
      "display_name": "Python 3"
    },
    "language_info": {
      "name": "python"
    }
  },
  "cells": [
    {
      "cell_type": "markdown",
      "metadata": {
        "id": "view-in-github",
        "colab_type": "text"
      },
      "source": [
        "<a href=\"https://colab.research.google.com/github/sparkprvn/python_coding/blob/main/python_practice_27_07_.ipynb\" target=\"_parent\"><img src=\"https://colab.research.google.com/assets/colab-badge.svg\" alt=\"Open In Colab\"/></a>"
      ]
    },
    {
      "cell_type": "code",
      "execution_count": null,
      "metadata": {
        "id": "yhvHRWGkwFyr"
      },
      "outputs": [],
      "source": [
        "# find the factorial of a number\n",
        "\n",
        "def num_factorial(n):\n",
        "\t\n",
        "\t# single line to find factorial\n",
        "\treturn 1 if (n==1 or n==0) else n * num_factorial(n - 1);\n",
        "\n",
        "# Driver Code\n",
        "num = 5;\n",
        "print(\"Factorial of\",num,\"is\",\n",
        "num_factorial(num))\n",
        "\n",
        "# Example for GeekfromGeeks\n"
      ]
    },
    {
      "cell_type": "code",
      "source": [
        "# Find a number is an Armstrong Number or not \n",
        "\n",
        "n = 153  # or n=int(input()) -> taking input from user\n",
        "s = n  # assigning input value to the s variable\n",
        "b = len(str(n))\n",
        "sum1 = 0\n",
        "while n != 0:\n",
        "    r = n % 10\n",
        "    sum1 = sum1+(r**b)\n",
        "    n = n//10\n",
        "if s == sum1:\n",
        "    print(\"The given number\", s, \"is armstrong number\")\n",
        "else:\n",
        "    print(\"The given number\", s, \"is not armstrong number\")"
      ],
      "metadata": {
        "id": "hEImeSgCrLmX"
      },
      "execution_count": null,
      "outputs": []
    }
  ]
}