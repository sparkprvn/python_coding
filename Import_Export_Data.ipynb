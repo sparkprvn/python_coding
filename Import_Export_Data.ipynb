{
  "cells": [
    {
      "cell_type": "markdown",
      "metadata": {
        "id": "view-in-github",
        "colab_type": "text"
      },
      "source": [
        "<a href=\"https://colab.research.google.com/github/sparkprvn/python_coding/blob/main/Import_Export_Data.ipynb\" target=\"_parent\"><img src=\"https://colab.research.google.com/assets/colab-badge.svg\" alt=\"Open In Colab\"/></a>"
      ]
    },
    {
      "cell_type": "markdown",
      "metadata": {
        "id": "nY9LuOJZU_s1"
      },
      "source": [
        "### Import and Export Data with Python\n",
        "\n",
        "Practice example taken from // http://apmonitor.com/che263/index.php/Main/PythonDataAnalysis // \n",
        "\n",
        "#### Method 1: Pandas"
      ]
    },
    {
      "cell_type": "code",
      "execution_count": null,
      "metadata": {
        "id": "SpGujpUyU_s5"
      },
      "outputs": [],
      "source": [
        "import pandas as pd\n",
        "url = 'http://apmonitor.com/pdc/uploads/Main/tclab_data2.txt'\n",
        "data = pd.read_csv(url)\n",
        "data.head()"
      ]
    },
    {
      "cell_type": "code",
      "execution_count": 2,
      "metadata": {
        "id": "kP_YDRyaU_s7"
      },
      "outputs": [],
      "source": [
        "data.to_csv('file.csv')"
      ]
    },
    {
      "cell_type": "markdown",
      "metadata": {
        "id": "Ifvc7v_EU_s7"
      },
      "source": [
        "#### Method 2: Numpy"
      ]
    },
    {
      "cell_type": "code",
      "execution_count": null,
      "metadata": {
        "id": "bQ3R8qP8U_s7"
      },
      "outputs": [],
      "source": [
        "import numpy as np\n",
        "data = np.loadtxt('file.csv',delimiter=',',skiprows=1)\n",
        "print(data)"
      ]
    },
    {
      "cell_type": "code",
      "execution_count": 4,
      "metadata": {
        "id": "633Qp642U_s8"
      },
      "outputs": [],
      "source": [
        "np.savetxt('file2.csv',data,delimiter=',',\\\n",
        "           comments='',header='Time,Q1,Q2,T1,T2')"
      ]
    }
  ],
  "metadata": {
    "kernelspec": {
      "display_name": "Python 3",
      "language": "python",
      "name": "python3"
    },
    "language_info": {
      "codemirror_mode": {
        "name": "ipython",
        "version": 3
      },
      "file_extension": ".py",
      "mimetype": "text/x-python",
      "name": "python",
      "nbconvert_exporter": "python",
      "pygments_lexer": "ipython3",
      "version": "3.8.5"
    },
    "colab": {
      "name": "Import_Export_Data.ipynb",
      "provenance": [],
      "include_colab_link": true
    }
  },
  "nbformat": 4,
  "nbformat_minor": 0
}


print("Hi")
